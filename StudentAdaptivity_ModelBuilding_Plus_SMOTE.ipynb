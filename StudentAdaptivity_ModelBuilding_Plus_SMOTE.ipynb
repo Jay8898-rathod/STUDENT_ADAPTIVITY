{
 "cells": [
  {
   "cell_type": "markdown",
   "id": "93f69a23",
   "metadata": {},
   "source": [
    "# Student Adaptivity Analysis\n",
    "\n",
    "# To get an idea about the effectiveness of online education\n",
    "\n",
    "## During the Covid-19 phase everything went on the online platform even the education system. Students whole education was completely on the online mode. This project shows how the students were able to adapt the online mode of education based on several factors taken into consideration. So the outcome is Prediction of Students Adaptivity Level in Online Education using Machine Learning Model"
   ]
  },
  {
   "cell_type": "code",
   "execution_count": 1,
   "id": "2dc05603",
   "metadata": {},
   "outputs": [],
   "source": [
    "import pandas as pd \n",
    "import numpy as np\n",
    "import seaborn as sns\n",
    "import matplotlib.pyplot as plt\n",
    "from sklearn.preprocessing import LabelEncoder,StandardScaler\n",
    "from sklearn.tree import DecisionTreeClassifier\n",
    "from sklearn.tree import DecisionTreeClassifier"
   ]
  },
  {
   "cell_type": "code",
   "execution_count": 2,
   "id": "4c9248e8",
   "metadata": {},
   "outputs": [],
   "source": [
    "data=pd.read_csv(r\"C:\\Users\\Jay Rathod\\Downloads\\Student_Adaptivity_preProcessed.csv\")"
   ]
  },
  {
   "cell_type": "code",
   "execution_count": 3,
   "id": "a395b7d4",
   "metadata": {},
   "outputs": [
    {
     "data": {
      "text/html": [
       "<div>\n",
       "<style scoped>\n",
       "    .dataframe tbody tr th:only-of-type {\n",
       "        vertical-align: middle;\n",
       "    }\n",
       "\n",
       "    .dataframe tbody tr th {\n",
       "        vertical-align: top;\n",
       "    }\n",
       "\n",
       "    .dataframe thead th {\n",
       "        text-align: right;\n",
       "    }\n",
       "</style>\n",
       "<table border=\"1\" class=\"dataframe\">\n",
       "  <thead>\n",
       "    <tr style=\"text-align: right;\">\n",
       "      <th></th>\n",
       "      <th>Gender</th>\n",
       "      <th>Age</th>\n",
       "      <th>Education Level</th>\n",
       "      <th>Institution Type</th>\n",
       "      <th>IT Student</th>\n",
       "      <th>Location</th>\n",
       "      <th>Load-shedding</th>\n",
       "      <th>Financial Condition</th>\n",
       "      <th>Internet Type</th>\n",
       "      <th>Network Type</th>\n",
       "      <th>Class Duration</th>\n",
       "      <th>Self Lms</th>\n",
       "      <th>Device</th>\n",
       "      <th>Adaptivity Level</th>\n",
       "    </tr>\n",
       "  </thead>\n",
       "  <tbody>\n",
       "    <tr>\n",
       "      <th>0</th>\n",
       "      <td>0</td>\n",
       "      <td>3</td>\n",
       "      <td>2</td>\n",
       "      <td>1</td>\n",
       "      <td>0</td>\n",
       "      <td>1</td>\n",
       "      <td>1</td>\n",
       "      <td>0</td>\n",
       "      <td>1</td>\n",
       "      <td>2</td>\n",
       "      <td>2</td>\n",
       "      <td>0</td>\n",
       "      <td>2</td>\n",
       "      <td>1</td>\n",
       "    </tr>\n",
       "    <tr>\n",
       "      <th>1</th>\n",
       "      <td>1</td>\n",
       "      <td>3</td>\n",
       "      <td>2</td>\n",
       "      <td>1</td>\n",
       "      <td>0</td>\n",
       "      <td>1</td>\n",
       "      <td>0</td>\n",
       "      <td>0</td>\n",
       "      <td>0</td>\n",
       "      <td>2</td>\n",
       "      <td>1</td>\n",
       "      <td>1</td>\n",
       "      <td>1</td>\n",
       "      <td>1</td>\n",
       "    </tr>\n",
       "    <tr>\n",
       "      <th>2</th>\n",
       "      <td>1</td>\n",
       "      <td>2</td>\n",
       "      <td>0</td>\n",
       "      <td>0</td>\n",
       "      <td>0</td>\n",
       "      <td>1</td>\n",
       "      <td>1</td>\n",
       "      <td>0</td>\n",
       "      <td>1</td>\n",
       "      <td>2</td>\n",
       "      <td>1</td>\n",
       "      <td>0</td>\n",
       "      <td>1</td>\n",
       "      <td>1</td>\n",
       "    </tr>\n",
       "    <tr>\n",
       "      <th>3</th>\n",
       "      <td>1</td>\n",
       "      <td>1</td>\n",
       "      <td>1</td>\n",
       "      <td>1</td>\n",
       "      <td>0</td>\n",
       "      <td>1</td>\n",
       "      <td>1</td>\n",
       "      <td>0</td>\n",
       "      <td>0</td>\n",
       "      <td>2</td>\n",
       "      <td>1</td>\n",
       "      <td>0</td>\n",
       "      <td>1</td>\n",
       "      <td>1</td>\n",
       "    </tr>\n",
       "    <tr>\n",
       "      <th>4</th>\n",
       "      <td>1</td>\n",
       "      <td>2</td>\n",
       "      <td>1</td>\n",
       "      <td>1</td>\n",
       "      <td>0</td>\n",
       "      <td>1</td>\n",
       "      <td>1</td>\n",
       "      <td>1</td>\n",
       "      <td>0</td>\n",
       "      <td>1</td>\n",
       "      <td>0</td>\n",
       "      <td>0</td>\n",
       "      <td>1</td>\n",
       "      <td>0</td>\n",
       "    </tr>\n",
       "  </tbody>\n",
       "</table>\n",
       "</div>"
      ],
      "text/plain": [
       "   Gender  Age  Education Level  Institution Type  IT Student  Location  \\\n",
       "0       0    3                2                 1           0         1   \n",
       "1       1    3                2                 1           0         1   \n",
       "2       1    2                0                 0           0         1   \n",
       "3       1    1                1                 1           0         1   \n",
       "4       1    2                1                 1           0         1   \n",
       "\n",
       "   Load-shedding  Financial Condition  Internet Type  Network Type  \\\n",
       "0              1                    0              1             2   \n",
       "1              0                    0              0             2   \n",
       "2              1                    0              1             2   \n",
       "3              1                    0              0             2   \n",
       "4              1                    1              0             1   \n",
       "\n",
       "   Class Duration  Self Lms  Device  Adaptivity Level  \n",
       "0               2         0       2                 1  \n",
       "1               1         1       1                 1  \n",
       "2               1         0       1                 1  \n",
       "3               1         0       1                 1  \n",
       "4               0         0       1                 0  "
      ]
     },
     "execution_count": 3,
     "metadata": {},
     "output_type": "execute_result"
    }
   ],
   "source": [
    "data.head()"
   ]
  },
  {
   "cell_type": "code",
   "execution_count": 4,
   "id": "3f95731c",
   "metadata": {},
   "outputs": [
    {
     "data": {
      "text/plain": [
       "(1205, 14)"
      ]
     },
     "execution_count": 4,
     "metadata": {},
     "output_type": "execute_result"
    }
   ],
   "source": [
    "data.shape"
   ]
  },
  {
   "cell_type": "code",
   "execution_count": 5,
   "id": "de700012",
   "metadata": {},
   "outputs": [],
   "source": [
    "X=data.values[:,:-1]\n",
    "Y=data.values[:,-1]"
   ]
  },
  {
   "cell_type": "code",
   "execution_count": 6,
   "id": "8dadb72f",
   "metadata": {},
   "outputs": [],
   "source": [
    "scaler=StandardScaler()"
   ]
  },
  {
   "cell_type": "code",
   "execution_count": 7,
   "id": "2061ee1f",
   "metadata": {},
   "outputs": [],
   "source": [
    "X=scaler.fit_transform(X)"
   ]
  },
  {
   "cell_type": "code",
   "execution_count": 8,
   "id": "c46d2f36",
   "metadata": {},
   "outputs": [],
   "source": [
    "from sklearn.model_selection import train_test_split\n",
    "X_train,X_test,Y_train,Y_test=train_test_split(X,Y,random_state=10,test_size=0.2)"
   ]
  },
  {
   "cell_type": "code",
   "execution_count": 9,
   "id": "94097cab",
   "metadata": {},
   "outputs": [
    {
     "name": "stdout",
     "output_type": "stream",
     "text": [
      "(964, 13) (241, 13) (964,) (241,)\n"
     ]
    }
   ],
   "source": [
    "print(X_train.shape,X_test.shape,Y_train.shape,Y_test.shape)"
   ]
  },
  {
   "cell_type": "code",
   "execution_count": 10,
   "id": "8e0986fe",
   "metadata": {},
   "outputs": [
    {
     "name": "stdout",
     "output_type": "stream",
     "text": [
      "Before OverSampling, counts of label '1':  488\n",
      "Before OverSampling, counts of label '0':  395\n",
      "Before OverSampling, counts of label '2':  81\n",
      "After OverSampling, the shape of train_X:  (1464, 13)\n",
      "After OverSampling, the shape of train_y:  (1464,)\n",
      "After OverSampling, counts of label '1':  488\n",
      "After OverSampling, counts of label '0':  488\n",
      "After OverSampling, counts of label '2':  488\n"
     ]
    }
   ],
   "source": [
    "print(\"Before OverSampling, counts of label '1': \", (sum(Y_train == 1)))\n",
    "print(\"Before OverSampling, counts of label '0': \", (sum(Y_train == 0)))\n",
    "print(\"Before OverSampling, counts of label '2': \", (sum(Y_train == 2)))\n",
    "\n",
    "# import SMOTE from imblearn library\n",
    "from imblearn.over_sampling import SMOTE\n",
    "sm = SMOTE(random_state = 10,k_neighbors=5)  #select any 5 observation and create synthetic data\n",
    "X_train_res, Y_train_res = sm.fit_resample(X_train, Y_train)  #fit_resample will only work on training data\n",
    "  \n",
    "print('After OverSampling, the shape of train_X: ', (X_train_res.shape))\n",
    "print('After OverSampling, the shape of train_y: ', (Y_train_res.shape))\n",
    "  \n",
    "print(\"After OverSampling, counts of label '1': \", (sum(Y_train_res == 1)))\n",
    "print(\"After OverSampling, counts of label '0': \", (sum(Y_train_res == 0)))\n",
    "print(\"After OverSampling, counts of label '2': \", (sum(Y_train_res == 2)))"
   ]
  },
  {
   "cell_type": "code",
   "execution_count": null,
   "id": "8705d2cb",
   "metadata": {},
   "outputs": [],
   "source": []
  },
  {
   "cell_type": "code",
   "execution_count": null,
   "id": "c7bd8f4f",
   "metadata": {},
   "outputs": [],
   "source": []
  },
  {
   "cell_type": "code",
   "execution_count": null,
   "id": "c6eaee0a",
   "metadata": {},
   "outputs": [],
   "source": []
  },
  {
   "cell_type": "code",
   "execution_count": 11,
   "id": "1fdd1f0c",
   "metadata": {},
   "outputs": [],
   "source": [
    "Dt=DecisionTreeClassifier(criterion=\"gini\",random_state=10,splitter=\"best\")\n",
    "# fit the model \n",
    "Dt.fit(X_train_res,Y_train_res)\n",
    "Y_pred=Dt.predict(X_test)"
   ]
  },
  {
   "cell_type": "code",
   "execution_count": 12,
   "id": "054f59ef",
   "metadata": {},
   "outputs": [
    {
     "name": "stdout",
     "output_type": "stream",
     "text": [
      "Confusion matrix by Decision Tree :\n",
      " [[ 79   2   4]\n",
      " [  3 124  10]\n",
      " [  0   0  19]]\n",
      "Classfication rep by Decision Tree :\n",
      "              precision    recall  f1-score   support\n",
      "\n",
      "           0       0.96      0.93      0.95        85\n",
      "           1       0.98      0.91      0.94       137\n",
      "           2       0.58      1.00      0.73        19\n",
      "\n",
      "    accuracy                           0.92       241\n",
      "   macro avg       0.84      0.94      0.87       241\n",
      "weighted avg       0.94      0.92      0.93       241\n",
      "\n",
      "Accuracy score by  Decision Tree : 0.921161825726141\n"
     ]
    }
   ],
   "source": [
    "from sklearn.metrics import confusion_matrix,classification_report,accuracy_score\n",
    "cm=confusion_matrix(Y_test,Y_pred)\n",
    "print(\"Confusion matrix by Decision Tree :\\n\",cm)\n",
    "class_r=classification_report(Y_test,Y_pred)\n",
    "print(\"Classfication rep by Decision Tree :\")\n",
    "print(class_r)\n",
    "acc_s=accuracy_score(Y_test,Y_pred)\n",
    "print(\"Accuracy score by  Decision Tree :\",acc_s)"
   ]
  },
  {
   "cell_type": "code",
   "execution_count": 13,
   "id": "56e0eb7a",
   "metadata": {},
   "outputs": [
    {
     "data": {
      "text/plain": [
       "0.9371584699453552"
      ]
     },
     "execution_count": 13,
     "metadata": {},
     "output_type": "execute_result"
    }
   ],
   "source": [
    "Dt.score(X_train_res,Y_train_res)"
   ]
  },
  {
   "cell_type": "code",
   "execution_count": 14,
   "id": "42502d13",
   "metadata": {},
   "outputs": [
    {
     "name": "stdout",
     "output_type": "stream",
     "text": [
      "[('Gender', 5.748109332600738), ('Age', 14.387003537488049), ('Education Level', 6.041567446434956), ('Institution Type', 7.506362755652608), ('IT Student', 5.198706342929854), ('Location', 1.8319233785552127), ('Load-shedding', 5.04036943535694), ('Financial Condition', 15.811768226878392), ('Internet Type', 4.52156613998774), ('Network Type', 6.835637091613191), ('Class Duration', 18.31453805887427), ('Self Lms', 6.05124517287592), ('Device', 2.7112030807521106)]\n"
     ]
    }
   ],
   "source": [
    "print(list(zip(data.columns[0:-1],Dt.feature_importances_*100)))"
   ]
  },
  {
   "cell_type": "code",
   "execution_count": 15,
   "id": "39c2682c",
   "metadata": {},
   "outputs": [
    {
     "data": {
      "text/html": [
       "<div>\n",
       "<style scoped>\n",
       "    .dataframe tbody tr th:only-of-type {\n",
       "        vertical-align: middle;\n",
       "    }\n",
       "\n",
       "    .dataframe tbody tr th {\n",
       "        vertical-align: top;\n",
       "    }\n",
       "\n",
       "    .dataframe thead th {\n",
       "        text-align: right;\n",
       "    }\n",
       "</style>\n",
       "<table border=\"1\" class=\"dataframe\">\n",
       "  <thead>\n",
       "    <tr style=\"text-align: right;\">\n",
       "      <th></th>\n",
       "      <th>Column</th>\n",
       "      <th>Imp value</th>\n",
       "    </tr>\n",
       "  </thead>\n",
       "  <tbody>\n",
       "    <tr>\n",
       "      <th>10</th>\n",
       "      <td>Class Duration</td>\n",
       "      <td>18.314538</td>\n",
       "    </tr>\n",
       "    <tr>\n",
       "      <th>7</th>\n",
       "      <td>Financial Condition</td>\n",
       "      <td>15.811768</td>\n",
       "    </tr>\n",
       "    <tr>\n",
       "      <th>1</th>\n",
       "      <td>Age</td>\n",
       "      <td>14.387004</td>\n",
       "    </tr>\n",
       "    <tr>\n",
       "      <th>3</th>\n",
       "      <td>Institution Type</td>\n",
       "      <td>7.506363</td>\n",
       "    </tr>\n",
       "    <tr>\n",
       "      <th>9</th>\n",
       "      <td>Network Type</td>\n",
       "      <td>6.835637</td>\n",
       "    </tr>\n",
       "    <tr>\n",
       "      <th>11</th>\n",
       "      <td>Self Lms</td>\n",
       "      <td>6.051245</td>\n",
       "    </tr>\n",
       "    <tr>\n",
       "      <th>2</th>\n",
       "      <td>Education Level</td>\n",
       "      <td>6.041567</td>\n",
       "    </tr>\n",
       "    <tr>\n",
       "      <th>0</th>\n",
       "      <td>Gender</td>\n",
       "      <td>5.748109</td>\n",
       "    </tr>\n",
       "    <tr>\n",
       "      <th>4</th>\n",
       "      <td>IT Student</td>\n",
       "      <td>5.198706</td>\n",
       "    </tr>\n",
       "    <tr>\n",
       "      <th>6</th>\n",
       "      <td>Load-shedding</td>\n",
       "      <td>5.040369</td>\n",
       "    </tr>\n",
       "    <tr>\n",
       "      <th>8</th>\n",
       "      <td>Internet Type</td>\n",
       "      <td>4.521566</td>\n",
       "    </tr>\n",
       "    <tr>\n",
       "      <th>12</th>\n",
       "      <td>Device</td>\n",
       "      <td>2.711203</td>\n",
       "    </tr>\n",
       "    <tr>\n",
       "      <th>5</th>\n",
       "      <td>Location</td>\n",
       "      <td>1.831923</td>\n",
       "    </tr>\n",
       "  </tbody>\n",
       "</table>\n",
       "</div>"
      ],
      "text/plain": [
       "                 Column  Imp value\n",
       "10       Class Duration  18.314538\n",
       "7   Financial Condition  15.811768\n",
       "1                   Age  14.387004\n",
       "3      Institution Type   7.506363\n",
       "9          Network Type   6.835637\n",
       "11             Self Lms   6.051245\n",
       "2       Education Level   6.041567\n",
       "0                Gender   5.748109\n",
       "4            IT Student   5.198706\n",
       "6         Load-shedding   5.040369\n",
       "8         Internet Type   4.521566\n",
       "12               Device   2.711203\n",
       "5              Location   1.831923"
      ]
     },
     "execution_count": 15,
     "metadata": {},
     "output_type": "execute_result"
    }
   ],
   "source": [
    "sample=pd.DataFrame()\n",
    "\n",
    "sample[\"Column\"]=data.columns[0:-1]\n",
    "sample[\"Imp value\"]=Dt.feature_importances_*100\n",
    "\n",
    "sample.sort_values(\"Imp value\",ascending=False)"
   ]
  },
  {
   "cell_type": "code",
   "execution_count": 16,
   "id": "6c5f0cb6",
   "metadata": {},
   "outputs": [],
   "source": [
    "from sklearn import tree\n",
    "with open(r\"covidtree.text\",\"w\")as f:\n",
    "    \n",
    "    f=tree.export_graphviz(Dt,feature_names=data.columns[0:-1],out_file=f)\n",
    "    \n",
    "    "
   ]
  },
  {
   "cell_type": "code",
   "execution_count": 17,
   "id": "82e75d42",
   "metadata": {},
   "outputs": [],
   "source": [
    "from sklearn.tree import DecisionTreeClassifier\n",
    "from sklearn.svm import SVC\n",
    "from sklearn.neighbors import KNeighborsClassifier\n",
    "from sklearn.linear_model import LogisticRegression\n",
    "Dt=DecisionTreeClassifier(criterion=\"gini\",splitter=\"best\",random_state=10)\n",
    "knn=KNeighborsClassifier(n_neighbors=int(np.sqrt(len(X_train_res))),metric=\"euclidean\")\n",
    "svm=SVC(kernel=\"rbf\",gamma=0.1,C=1)\n",
    "logreg=LogisticRegression(random_state=10)"
   ]
  },
  {
   "cell_type": "code",
   "execution_count": 18,
   "id": "177fd682",
   "metadata": {},
   "outputs": [
    {
     "name": "stdout",
     "output_type": "stream",
     "text": [
      "[[ 79   2   4]\n",
      " [  3 124  10]\n",
      " [  0   0  19]]\n",
      "The accuracy of the  DecisionTreeClassifier  model is  92.11618257261411\n",
      "Classification report:\n",
      "               precision    recall  f1-score   support\n",
      "\n",
      "           0       0.96      0.93      0.95        85\n",
      "           1       0.98      0.91      0.94       137\n",
      "           2       0.58      1.00      0.73        19\n",
      "\n",
      "    accuracy                           0.92       241\n",
      "   macro avg       0.84      0.94      0.87       241\n",
      "weighted avg       0.94      0.92      0.93       241\n",
      "\n",
      "\n",
      "\n",
      "[[56 21  8]\n",
      " [30 92 15]\n",
      " [ 1  3 15]]\n",
      "The accuracy of the  KNeighborsClassifier  model is  67.63485477178423\n",
      "Classification report:\n",
      "               precision    recall  f1-score   support\n",
      "\n",
      "           0       0.64      0.66      0.65        85\n",
      "           1       0.79      0.67      0.73       137\n",
      "           2       0.39      0.79      0.53        19\n",
      "\n",
      "    accuracy                           0.68       241\n",
      "   macro avg       0.61      0.71      0.63       241\n",
      "weighted avg       0.71      0.68      0.68       241\n",
      "\n",
      "\n",
      "\n",
      "[[ 77   4   4]\n",
      " [ 12 106  19]\n",
      " [  0   0  19]]\n",
      "The accuracy of the  SVC  model is  83.81742738589212\n",
      "Classification report:\n",
      "               precision    recall  f1-score   support\n",
      "\n",
      "           0       0.87      0.91      0.89        85\n",
      "           1       0.96      0.77      0.86       137\n",
      "           2       0.45      1.00      0.62        19\n",
      "\n",
      "    accuracy                           0.84       241\n",
      "   macro avg       0.76      0.89      0.79       241\n",
      "weighted avg       0.89      0.84      0.85       241\n",
      "\n",
      "\n",
      "\n",
      "[[49 28  8]\n",
      " [25 97 15]\n",
      " [ 3  1 15]]\n",
      "The accuracy of the  LogisticRegression  model is  66.80497925311202\n",
      "Classification report:\n",
      "               precision    recall  f1-score   support\n",
      "\n",
      "           0       0.64      0.58      0.60        85\n",
      "           1       0.77      0.71      0.74       137\n",
      "           2       0.39      0.79      0.53        19\n",
      "\n",
      "    accuracy                           0.67       241\n",
      "   macro avg       0.60      0.69      0.62       241\n",
      "weighted avg       0.69      0.67      0.67       241\n",
      "\n",
      "\n",
      "\n"
     ]
    }
   ],
   "source": [
    "models= [Dt, knn, svm, logreg]\n",
    "\n",
    " \n",
    "\n",
    "from sklearn.metrics import confusion_matrix, accuracy_score,classification_report\n",
    " \n",
    "for model in models:\n",
    "    model.fit(X_train_res, Y_train_res)\n",
    "    Y_pred= model.predict(X_test)\n",
    "    accuracy= accuracy_score(Y_test, Y_pred) \n",
    "    clf_report= classification_report(Y_test, Y_pred) \n",
    "    print(confusion_matrix(Y_test,Y_pred))\n",
    "    print(\"The accuracy of the \",type(model).__name__, \" model is \", accuracy*100 )\n",
    "    print(\"Classification report:\\n\", clf_report)\n",
    "    print(\"\\n\")"
   ]
  },
  {
   "cell_type": "markdown",
   "id": "f2e6f1b3",
   "metadata": {},
   "source": [
    " # Hyperparameter tuning in Decision Tree"
   ]
  },
  {
   "cell_type": "code",
   "execution_count": 19,
   "id": "712a714e",
   "metadata": {},
   "outputs": [
    {
     "data": {
      "text/plain": [
       "GridSearchCV(cv=5, estimator=DecisionTreeClassifier(random_state=10), n_jobs=-1,\n",
       "             param_grid={'max_depth': [12, 10, 15],\n",
       "                         'max_features': [0.6, 0.7, 0.8, 0.9, 1],\n",
       "                         'max_leaf_nodes': [100, 150, 200, 250],\n",
       "                         'min_samples_leaf': [3, 5, 7, 9],\n",
       "                         'min_samples_split': [3, 7, 9, 11]})"
      ]
     },
     "execution_count": 19,
     "metadata": {},
     "output_type": "execute_result"
    }
   ],
   "source": [
    "from sklearn.model_selection import GridSearchCV\n",
    "parameter_space = {\"min_samples_leaf\":[3,5,7,9],\n",
    "                    \"min_samples_split\":[3,7,9,11],\n",
    "                   \"max_depth\":[12,10,15],\n",
    "                  \"max_features\":[0.6,0.7,0.8,0.9,1],\n",
    "                  \"max_leaf_nodes\":[100,150,200,250]}\n",
    "    \n",
    "    \n",
    "clf = GridSearchCV(Dt,parameter_space,n_jobs=-1, cv=5)\n",
    "clf.fit(X_train_res,Y_train_res)"
   ]
  },
  {
   "cell_type": "code",
   "execution_count": 20,
   "id": "bab550f9",
   "metadata": {},
   "outputs": [
    {
     "data": {
      "text/plain": [
       "{'max_depth': 15,\n",
       " 'max_features': 0.7,\n",
       " 'max_leaf_nodes': 150,\n",
       " 'min_samples_leaf': 3,\n",
       " 'min_samples_split': 3}"
      ]
     },
     "execution_count": 20,
     "metadata": {},
     "output_type": "execute_result"
    }
   ],
   "source": [
    "clf.best_params_"
   ]
  },
  {
   "cell_type": "code",
   "execution_count": 21,
   "id": "bc28f1b1",
   "metadata": {},
   "outputs": [
    {
     "data": {
      "text/plain": [
       "0.8511150591425499"
      ]
     },
     "execution_count": 21,
     "metadata": {},
     "output_type": "execute_result"
    }
   ],
   "source": [
    "clf.best_score_"
   ]
  },
  {
   "cell_type": "code",
   "execution_count": 22,
   "id": "973d30f7",
   "metadata": {},
   "outputs": [],
   "source": [
    "Dt=DecisionTreeClassifier(criterion=\"gini\",random_state=10,splitter=\"best\",max_depth=12,\n",
    "                        max_features=0.8,max_leaf_nodes=100,min_samples_leaf=3,min_samples_split=9\n",
    "                        )\n",
    "# fit the model \n",
    "Dt.fit(X_train_res,Y_train_res)\n",
    "Y_pred=Dt.predict(X_test)"
   ]
  },
  {
   "cell_type": "code",
   "execution_count": 23,
   "id": "23d80bb2",
   "metadata": {},
   "outputs": [
    {
     "name": "stdout",
     "output_type": "stream",
     "text": [
      "Confusion matrix by Decision Tree :\n",
      "[[ 70   8   7]\n",
      " [ 15 105  17]\n",
      " [  0   3  16]]\n",
      "Classfication rep by Decision Tree:\n",
      "              precision    recall  f1-score   support\n",
      "\n",
      "           0       0.82      0.82      0.82        85\n",
      "           1       0.91      0.77      0.83       137\n",
      "           2       0.40      0.84      0.54        19\n",
      "\n",
      "    accuracy                           0.79       241\n",
      "   macro avg       0.71      0.81      0.73       241\n",
      "weighted avg       0.84      0.79      0.81       241\n",
      "\n",
      "Accuracy score by Decision Tree: 0.7925311203319502\n"
     ]
    }
   ],
   "source": [
    "from sklearn.metrics import confusion_matrix,accuracy_score,classification_report\n",
    "cfmdt=confusion_matrix(Y_test,Y_pred)\n",
    "print(\"Confusion matrix by Decision Tree :\")\n",
    "print(cfmdt)\n",
    "class_rdt=classification_report(Y_test,Y_pred)\n",
    "print(\"Classfication rep by Decision Tree:\")\n",
    "print(class_rdt)\n",
    "acc_sdt=accuracy_score(Y_test,Y_pred)\n",
    "print(\"Accuracy score by Decision Tree:\",acc_sdt)"
   ]
  },
  {
   "cell_type": "markdown",
   "id": "58310485",
   "metadata": {},
   "source": [
    "# Hyperparameter tuning in Knn"
   ]
  },
  {
   "cell_type": "code",
   "execution_count": 24,
   "id": "e0384abd",
   "metadata": {},
   "outputs": [
    {
     "data": {
      "text/plain": [
       "38.262252939417984"
      ]
     },
     "execution_count": 24,
     "metadata": {},
     "output_type": "execute_result"
    }
   ],
   "source": [
    "np.sqrt(len(X_train_res))"
   ]
  },
  {
   "cell_type": "code",
   "execution_count": 25,
   "id": "d99134b6",
   "metadata": {},
   "outputs": [],
   "source": [
    "knn=KNeighborsClassifier(n_neighbors=42,metric=\"euclidean\")\n",
    "from sklearn.metrics import confusion_matrix,classification_report,accuracy_score\n"
   ]
  },
  {
   "cell_type": "code",
   "execution_count": 26,
   "id": "9e8e0663",
   "metadata": {},
   "outputs": [
    {
     "name": "stdout",
     "output_type": "stream",
     "text": [
      "Confusion matrix by KNN :\n",
      " [[61 15  9]\n",
      " [38 87 12]\n",
      " [ 1  3 15]]\n",
      "Classfication rep by KNN :\n",
      "              precision    recall  f1-score   support\n",
      "\n",
      "           0       0.61      0.72      0.66        85\n",
      "           1       0.83      0.64      0.72       137\n",
      "           2       0.42      0.79      0.55        19\n",
      "\n",
      "    accuracy                           0.68       241\n",
      "   macro avg       0.62      0.71      0.64       241\n",
      "weighted avg       0.72      0.68      0.68       241\n",
      "\n",
      "Accuracy score by  KNN : 0.6763485477178424\n"
     ]
    }
   ],
   "source": [
    "knn.fit(X_train_res,Y_train_res)\n",
    "Y_pred=knn.predict(X_test)\n",
    "cm=confusion_matrix(Y_test,Y_pred)\n",
    "print(\"Confusion matrix by KNN :\\n\",cm)\n",
    "class_r=classification_report(Y_test,Y_pred)\n",
    "print(\"Classfication rep by KNN :\")\n",
    "print(class_r)\n",
    "acc_s=accuracy_score(Y_test,Y_pred)\n",
    "print(\"Accuracy score by  KNN :\",acc_s)"
   ]
  },
  {
   "cell_type": "code",
   "execution_count": 27,
   "id": "fd09a157",
   "metadata": {},
   "outputs": [
    {
     "name": "stdout",
     "output_type": "stream",
     "text": [
      "Accuracy is  0.8547717842323651 for K-Value: 3\n",
      "Accuracy is  0.8755186721991701 for K-Value: 4\n",
      "Accuracy is  0.8630705394190872 for K-Value: 5\n",
      "Accuracy is  0.8381742738589212 for K-Value: 6\n",
      "Accuracy is  0.8091286307053942 for K-Value: 7\n",
      "Accuracy is  0.8215767634854771 for K-Value: 8\n",
      "Accuracy is  0.8132780082987552 for K-Value: 9\n",
      "Accuracy is  0.7759336099585062 for K-Value: 10\n",
      "Accuracy is  0.7800829875518672 for K-Value: 11\n",
      "Accuracy is  0.7676348547717843 for K-Value: 12\n",
      "Accuracy is  0.7676348547717843 for K-Value: 13\n",
      "Accuracy is  0.7634854771784232 for K-Value: 14\n",
      "Accuracy is  0.7385892116182573 for K-Value: 15\n",
      "Accuracy is  0.7302904564315352 for K-Value: 16\n",
      "Accuracy is  0.7261410788381742 for K-Value: 17\n",
      "Accuracy is  0.7302904564315352 for K-Value: 18\n",
      "Accuracy is  0.7302904564315352 for K-Value: 19\n",
      "Accuracy is  0.7385892116182573 for K-Value: 20\n",
      "Accuracy is  0.7344398340248963 for K-Value: 21\n",
      "Accuracy is  0.7302904564315352 for K-Value: 22\n",
      "Accuracy is  0.7261410788381742 for K-Value: 23\n",
      "Accuracy is  0.6970954356846473 for K-Value: 24\n",
      "Accuracy is  0.7012448132780082 for K-Value: 25\n",
      "Accuracy is  0.7095435684647303 for K-Value: 26\n",
      "Accuracy is  0.6970954356846473 for K-Value: 27\n",
      "Accuracy is  0.7012448132780082 for K-Value: 28\n",
      "Accuracy is  0.6970954356846473 for K-Value: 29\n",
      "Accuracy is  0.6721991701244814 for K-Value: 30\n",
      "Accuracy is  0.6804979253112033 for K-Value: 31\n",
      "Accuracy is  0.6804979253112033 for K-Value: 32\n",
      "Accuracy is  0.6763485477178424 for K-Value: 33\n",
      "Accuracy is  0.6763485477178424 for K-Value: 34\n",
      "Accuracy is  0.6763485477178424 for K-Value: 35\n",
      "Accuracy is  0.6680497925311203 for K-Value: 36\n",
      "Accuracy is  0.6639004149377593 for K-Value: 37\n",
      "Accuracy is  0.6763485477178424 for K-Value: 38\n",
      "Accuracy is  0.6804979253112033 for K-Value: 39\n",
      "Accuracy is  0.6597510373443983 for K-Value: 40\n",
      "Accuracy is  0.6721991701244814 for K-Value: 41\n"
     ]
    }
   ],
   "source": [
    "my_dict={}\n",
    "for K in range(3,42):\n",
    "    knn=KNeighborsClassifier(n_neighbors=K,metric=\"euclidean\")\n",
    "    knn.fit(X_train_res,Y_train_res)\n",
    "    Y_pred=knn.predict(X_test)\n",
    "    print (\"Accuracy is \", accuracy_score(Y_test,Y_pred), \"for K-Value:\",K)\n",
    "    my_dict[K]=accuracy_score(Y_test,Y_pred)\n"
   ]
  },
  {
   "cell_type": "code",
   "execution_count": 28,
   "id": "9096e1db",
   "metadata": {},
   "outputs": [
    {
     "name": "stdout",
     "output_type": "stream",
     "text": [
      "4 : 0.8755186721991701\n"
     ]
    }
   ],
   "source": [
    "for i in my_dict:\n",
    "    if my_dict[i]==max(my_dict.values()):\n",
    "        print(i,\":\",my_dict[i])"
   ]
  },
  {
   "cell_type": "markdown",
   "id": "ad8414f8",
   "metadata": {},
   "source": [
    "# Hyperparameter tuning in SVC"
   ]
  },
  {
   "cell_type": "code",
   "execution_count": 63,
   "id": "f9536105",
   "metadata": {},
   "outputs": [
    {
     "name": "stdout",
     "output_type": "stream",
     "text": [
      "Accuracy is  0.9087136929460581 for K-Value: 10\n",
      "Accuracy is  0.9128630705394191 for K-Value: 20\n",
      "Accuracy is  0.9128630705394191 for K-Value: 30\n",
      "Accuracy is  0.9128630705394191 for K-Value: 40\n",
      "Accuracy is  0.9128630705394191 for K-Value: 50\n",
      "Accuracy is  0.9128630705394191 for K-Value: 60\n",
      "Accuracy is  0.9128630705394191 for K-Value: 70\n",
      "Accuracy is  0.9128630705394191 for K-Value: 80\n",
      "Accuracy is  0.9128630705394191 for K-Value: 90\n"
     ]
    }
   ],
   "source": [
    "from sklearn.svm import SVC\n",
    "K=np.arange(10,100,10)\n",
    "\n",
    "my_dict={}\n",
    "for K in np.arange(10,100,10):\n",
    "    svm=SVC(kernel=\"rbf\",gamma=0.1,C=K)\n",
    "    svm.fit(X_train_res,Y_train_res)\n",
    "    Y_pred=svm.predict(X_test)\n",
    "    print (\"Accuracy is \", accuracy_score(Y_test,Y_pred), \"for K-Value:\",K)\n",
    "    my_dict[K]=accuracy_score(Y_test,Y_pred)\n"
   ]
  },
  {
   "cell_type": "code",
   "execution_count": 64,
   "id": "e9398681",
   "metadata": {},
   "outputs": [
    {
     "name": "stdout",
     "output_type": "stream",
     "text": [
      "20 : 0.9128630705394191\n",
      "30 : 0.9128630705394191\n",
      "40 : 0.9128630705394191\n",
      "50 : 0.9128630705394191\n",
      "60 : 0.9128630705394191\n",
      "70 : 0.9128630705394191\n",
      "80 : 0.9128630705394191\n",
      "90 : 0.9128630705394191\n"
     ]
    }
   ],
   "source": [
    "for i in my_dict:\n",
    "    if my_dict[i]==max(my_dict.values()):\n",
    "        print(i,\":\",my_dict[i])"
   ]
  },
  {
   "cell_type": "code",
   "execution_count": 65,
   "id": "5d2f2c8a",
   "metadata": {},
   "outputs": [
    {
     "name": "stdout",
     "output_type": "stream",
     "text": [
      "20 : 0.9128630705394191\n",
      "30 : 0.9128630705394191\n",
      "40 : 0.9128630705394191\n",
      "50 : 0.9128630705394191\n",
      "60 : 0.9128630705394191\n",
      "70 : 0.9128630705394191\n",
      "80 : 0.9128630705394191\n",
      "90 : 0.9128630705394191\n"
     ]
    }
   ],
   "source": [
    "for i in my_dict:\n",
    "    if my_dict[i]==max(my_dict.values()):\n",
    "        print(i,\":\",my_dict[i])"
   ]
  },
  {
   "cell_type": "code",
   "execution_count": 66,
   "id": "66f0ad38",
   "metadata": {},
   "outputs": [
    {
     "name": "stdout",
     "output_type": "stream",
     "text": [
      "Accuracy is  0.7012448132780082 for K-Value: 10\n",
      "Accuracy is  0.7302904564315352 for K-Value: 20\n",
      "Accuracy is  0.7676348547717843 for K-Value: 30\n",
      "Accuracy is  0.7593360995850622 for K-Value: 40\n",
      "Accuracy is  0.7510373443983402 for K-Value: 50\n",
      "Accuracy is  0.7759336099585062 for K-Value: 60\n",
      "Accuracy is  0.7883817427385892 for K-Value: 70\n",
      "Accuracy is  0.7966804979253111 for K-Value: 80\n",
      "Accuracy is  0.8008298755186722 for K-Value: 90\n"
     ]
    }
   ],
   "source": [
    "from sklearn.svm import SVC\n",
    "K=np.arange(10,100,10)\n",
    "\n",
    "my_dict={}\n",
    "for K in np.arange(10,100,10):\n",
    "    svm=SVC(kernel=\"rbf\",gamma=0.01,C=K)\n",
    "    svm.fit(X_train_res,Y_train_res)\n",
    "    Y_pred=svm.predict(X_test)\n",
    "    print (\"Accuracy is \", accuracy_score(Y_test,Y_pred), \"for K-Value:\",K)\n",
    "    my_dict[K]=accuracy_score(Y_test,Y_pred)\n"
   ]
  },
  {
   "cell_type": "code",
   "execution_count": 67,
   "id": "b215fafa",
   "metadata": {},
   "outputs": [
    {
     "name": "stdout",
     "output_type": "stream",
     "text": [
      "90 : 0.8008298755186722\n"
     ]
    }
   ],
   "source": [
    "for i in my_dict:\n",
    "    if my_dict[i]==max(my_dict.values()):\n",
    "        print(i,\":\",my_dict[i])"
   ]
  },
  {
   "cell_type": "code",
   "execution_count": 68,
   "id": "4ae0ad8d",
   "metadata": {},
   "outputs": [
    {
     "name": "stdout",
     "output_type": "stream",
     "text": [
      "Confusion matrix by SVC :\n",
      " [[ 58  22   5]\n",
      " [ 14 102  21]\n",
      " [  1   2  16]]\n",
      "Classfication rep by SVC :\n",
      "              precision    recall  f1-score   support\n",
      "\n",
      "           0       0.79      0.68      0.73        85\n",
      "           1       0.81      0.74      0.78       137\n",
      "           2       0.38      0.84      0.52        19\n",
      "\n",
      "    accuracy                           0.73       241\n",
      "   macro avg       0.66      0.76      0.68       241\n",
      "weighted avg       0.77      0.73      0.74       241\n",
      "\n",
      "Accuracy score by  SVC : 0.7302904564315352\n"
     ]
    }
   ],
   "source": [
    "svm=SVC(kernel=\"rbf\",gamma=0.01,C=20)\n",
    "svm.fit(X_train_res,Y_train_res)\n",
    "Y_pred=svm.predict(X_test)\n",
    "\n",
    "cm=confusion_matrix(Y_test,Y_pred)\n",
    "print(\"Confusion matrix by SVC :\\n\",cm)\n",
    "class_r=classification_report(Y_test,Y_pred)\n",
    "print(\"Classfication rep by SVC :\")\n",
    "print(class_r)\n",
    "acc_s=accuracy_score(Y_test,Y_pred)\n",
    "print(\"Accuracy score by  SVC :\",acc_s)"
   ]
  },
  {
   "cell_type": "code",
   "execution_count": 69,
   "id": "41a51260",
   "metadata": {},
   "outputs": [],
   "source": [
    "from sklearn.ensemble import RandomForestClassifier,ExtraTreesClassifier,AdaBoostClassifier,GradientBoostingClassifier\n",
    "from xgboost import XGBClassifier\n",
    "Rf=RandomForestClassifier(n_estimators=500,random_state=10,bootstrap=True,n_jobs=-1) \n",
    "Et=ExtraTreesClassifier(random_state=10, bootstrap=True)\n",
    "Adboost=AdaBoostClassifier(base_estimator=DecisionTreeClassifier(random_state=10),n_estimators=100,random_state=10)\n",
    "grad_boost=GradientBoostingClassifier(n_estimators=300,random_state=10)\n",
    "Xg_boost=XGBClassifier(n_estimators=300,random_state=10)\n",
    "\n"
   ]
  },
  {
   "cell_type": "code",
   "execution_count": 70,
   "id": "84712e35",
   "metadata": {},
   "outputs": [
    {
     "name": "stdout",
     "output_type": "stream",
     "text": [
      "[[ 79   2   4]\n",
      " [  3 124  10]\n",
      " [  0   0  19]]\n",
      "The accuracy of the  RandomForestClassifier  model is  92.11618257261411\n",
      "Classification report:\n",
      "               precision    recall  f1-score   support\n",
      "\n",
      "           0       0.96      0.93      0.95        85\n",
      "           1       0.98      0.91      0.94       137\n",
      "           2       0.58      1.00      0.73        19\n",
      "\n",
      "    accuracy                           0.92       241\n",
      "   macro avg       0.84      0.94      0.87       241\n",
      "weighted avg       0.94      0.92      0.93       241\n",
      "\n",
      "\n",
      "\n",
      "[[ 79   2   4]\n",
      " [  3 124  10]\n",
      " [  0   0  19]]\n",
      "The accuracy of the  ExtraTreesClassifier  model is  92.11618257261411\n",
      "Classification report:\n",
      "               precision    recall  f1-score   support\n",
      "\n",
      "           0       0.96      0.93      0.95        85\n",
      "           1       0.98      0.91      0.94       137\n",
      "           2       0.58      1.00      0.73        19\n",
      "\n",
      "    accuracy                           0.92       241\n",
      "   macro avg       0.84      0.94      0.87       241\n",
      "weighted avg       0.94      0.92      0.93       241\n",
      "\n",
      "\n",
      "\n",
      "[[ 78   3   4]\n",
      " [  2 125  10]\n",
      " [  1   0  18]]\n",
      "The accuracy of the  AdaBoostClassifier  model is  91.70124481327801\n",
      "Classification report:\n",
      "               precision    recall  f1-score   support\n",
      "\n",
      "           0       0.96      0.92      0.94        85\n",
      "           1       0.98      0.91      0.94       137\n",
      "           2       0.56      0.95      0.71        19\n",
      "\n",
      "    accuracy                           0.92       241\n",
      "   macro avg       0.83      0.93      0.86       241\n",
      "weighted avg       0.94      0.92      0.92       241\n",
      "\n",
      "\n",
      "\n",
      "[[ 70   9   6]\n",
      " [ 12 109  16]\n",
      " [  0   2  17]]\n",
      "The accuracy of the  GradientBoostingClassifier  model is  81.32780082987551\n",
      "Classification report:\n",
      "               precision    recall  f1-score   support\n",
      "\n",
      "           0       0.85      0.82      0.84        85\n",
      "           1       0.91      0.80      0.85       137\n",
      "           2       0.44      0.89      0.59        19\n",
      "\n",
      "    accuracy                           0.81       241\n",
      "   macro avg       0.73      0.84      0.76       241\n",
      "weighted avg       0.85      0.81      0.82       241\n",
      "\n",
      "\n",
      "\n",
      "[[ 79   2   4]\n",
      " [  2 125  10]\n",
      " [  0   0  19]]\n",
      "The accuracy of the  XGBClassifier  model is  92.5311203319502\n",
      "Classification report:\n",
      "               precision    recall  f1-score   support\n",
      "\n",
      "           0       0.98      0.93      0.95        85\n",
      "           1       0.98      0.91      0.95       137\n",
      "           2       0.58      1.00      0.73        19\n",
      "\n",
      "    accuracy                           0.93       241\n",
      "   macro avg       0.85      0.95      0.88       241\n",
      "weighted avg       0.95      0.93      0.93       241\n",
      "\n",
      "\n",
      "\n"
     ]
    }
   ],
   "source": [
    "models=[Rf,Et,Adboost,grad_boost,Xg_boost]\n",
    "for model in models:\n",
    "    model.fit(X_train_res, Y_train_res)\n",
    "    Y_pred= model.predict(X_test)\n",
    "    accuracy= accuracy_score(Y_test, Y_pred) \n",
    "    clf_report= classification_report(Y_test, Y_pred) \n",
    "    print(confusion_matrix(Y_test,Y_pred))\n",
    "    print(\"The accuracy of the \",type(model).__name__, \" model is \", accuracy*100 )\n",
    "    print(\"Classification report:\\n\", clf_report)\n",
    "    print(\"\\n\")"
   ]
  },
  {
   "cell_type": "code",
   "execution_count": 36,
   "id": "fa901f8d",
   "metadata": {},
   "outputs": [
    {
     "data": {
      "text/plain": [
       "{'n_estimators': 200}"
      ]
     },
     "execution_count": 36,
     "metadata": {},
     "output_type": "execute_result"
    }
   ],
   "source": [
    "from sklearn.model_selection import GridSearchCV\n",
    "parameter_space = {\n",
    "    \n",
    "                   \"n_estimators\":[50,100,200,300,400,500]}\n",
    "    \n",
    "clf = GridSearchCV(Et,parameter_space,n_jobs=-1, cv=5)\n",
    "clf.fit(X_train_res,Y_train_res)\n",
    "clf.best_params_"
   ]
  },
  {
   "cell_type": "code",
   "execution_count": 37,
   "id": "80bb6927",
   "metadata": {},
   "outputs": [
    {
     "data": {
      "text/plain": [
       "0.8955093739772781"
      ]
     },
     "execution_count": 37,
     "metadata": {},
     "output_type": "execute_result"
    }
   ],
   "source": [
    "clf.best_score_\n"
   ]
  },
  {
   "cell_type": "code",
   "execution_count": 38,
   "id": "cbe9871d",
   "metadata": {},
   "outputs": [
    {
     "name": "stdout",
     "output_type": "stream",
     "text": [
      "Confusion matrix by Extra Trees Classifier:\n",
      " [[ 79   2   4]\n",
      " [  3 124  10]\n",
      " [  0   0  19]]\n",
      "Classfication rep by Extra Trees Classifier:\n",
      "              precision    recall  f1-score   support\n",
      "\n",
      "           0       0.96      0.93      0.95        85\n",
      "           1       0.98      0.91      0.94       137\n",
      "           2       0.58      1.00      0.73        19\n",
      "\n",
      "    accuracy                           0.92       241\n",
      "   macro avg       0.84      0.94      0.87       241\n",
      "weighted avg       0.94      0.92      0.93       241\n",
      "\n",
      "Accuracy score by  Extra Trees Classifier: 0.921161825726141\n"
     ]
    }
   ],
   "source": [
    "Et=ExtraTreesClassifier(n_estimators=100,random_state=10,bootstrap=True)\n",
    "Et.fit(X_train_res,Y_train_res)\n",
    "Y_pred=Et.predict(X_test)\n",
    "cm=confusion_matrix(Y_test,Y_pred)\n",
    "print(\"Confusion matrix by Extra Trees Classifier:\\n\",cm)\n",
    "class_r=classification_report(Y_test,Y_pred)\n",
    "print(\"Classfication rep by Extra Trees Classifier:\")\n",
    "print(class_r)\n",
    "acc_s=accuracy_score(Y_test,Y_pred)\n",
    "print(\"Accuracy score by  Extra Trees Classifier:\",acc_s)"
   ]
  },
  {
   "cell_type": "code",
   "execution_count": 39,
   "id": "0924d861",
   "metadata": {},
   "outputs": [
    {
     "name": "stdout",
     "output_type": "stream",
     "text": [
      "[('log', LogisticRegression()), ('tree', DecisionTreeClassifier(random_state=10)), ('svm', SVC(C=90, gamma=0.1)), ('knn', KNeighborsClassifier(metric='euclidean', n_neighbors=15))]\n"
     ]
    }
   ],
   "source": [
    "from sklearn.linear_model import LogisticRegression\n",
    "from sklearn.tree import DecisionTreeClassifier\n",
    "from sklearn.svm import SVC\n",
    "from sklearn.ensemble import VotingClassifier\n",
    "from sklearn.neighbors import KNeighborsClassifier\n",
    "# create the sub models\n",
    "estimators = []\n",
    "model1 = LogisticRegression()\n",
    "estimators.append(('log', model1))\n",
    "model2 = DecisionTreeClassifier(criterion='gini',random_state=10)\n",
    "estimators.append(('tree', model2))\n",
    "model3 = SVC(kernel=\"rbf\", C=90,gamma=0.1)\n",
    "estimators.append(('svm', model3))\n",
    "model4 = KNeighborsClassifier(n_neighbors=15, metric='euclidean')\n",
    "estimators.append(('knn', model4))\n",
    "print(estimators)\n",
    "# create the ensemble model\n",
    "ensemble = VotingClassifier(estimators)\n",
    "ensemble.fit(X_train_res,Y_train_res)\n",
    "Y_pred=ensemble.predict(X_test)\n",
    "#print(Y_pred)"
   ]
  },
  {
   "cell_type": "code",
   "execution_count": 40,
   "id": "d7142b89",
   "metadata": {},
   "outputs": [
    {
     "name": "stdout",
     "output_type": "stream",
     "text": [
      "Confusion matrix by Voting Classifier:\n",
      " [[ 79   3   3]\n",
      " [ 13 118   6]\n",
      " [  0   1  18]]\n",
      "Classfication rep by Voting Classifier:\n",
      "              precision    recall  f1-score   support\n",
      "\n",
      "           0       0.86      0.93      0.89        85\n",
      "           1       0.97      0.86      0.91       137\n",
      "           2       0.67      0.95      0.78        19\n",
      "\n",
      "    accuracy                           0.89       241\n",
      "   macro avg       0.83      0.91      0.86       241\n",
      "weighted avg       0.91      0.89      0.89       241\n",
      "\n",
      "Accuracy score by  Voting Classifier: 0.8921161825726142\n"
     ]
    }
   ],
   "source": [
    "cm=confusion_matrix(Y_test,Y_pred)\n",
    "print(\"Confusion matrix by Voting Classifier:\\n\",cm)\n",
    "class_r=classification_report(Y_test,Y_pred)\n",
    "print(\"Classfication rep by Voting Classifier:\")\n",
    "print(class_r)\n",
    "acc_s=accuracy_score(Y_test,Y_pred)\n",
    "print(\"Accuracy score by  Voting Classifier:\",acc_s)"
   ]
  },
  {
   "cell_type": "code",
   "execution_count": 41,
   "id": "73ba9e5c",
   "metadata": {},
   "outputs": [
    {
     "name": "stdout",
     "output_type": "stream",
     "text": [
      "[('log', LogisticRegression()), ('tree', DecisionTreeClassifier(random_state=10)), ('svm', SVC(C=90, gamma=0.1)), ('knn', KNeighborsClassifier(metric='euclidean', n_neighbors=15))]\n"
     ]
    }
   ],
   "source": [
    "from sklearn.linear_model import LogisticRegression\n",
    "from sklearn.tree import DecisionTreeClassifier\n",
    "from sklearn.svm import SVC\n",
    "from sklearn.ensemble import StackingClassifier\n",
    "from sklearn.neighbors import KNeighborsClassifier\n",
    "# create the sub models\n",
    "level0 = []\n",
    "model1 = LogisticRegression()\n",
    "level0.append(('log', model1))\n",
    "model2 = DecisionTreeClassifier(criterion='gini',random_state=10)\n",
    "level0.append(('tree', model2))\n",
    "model3 = SVC(kernel=\"rbf\", C=90,gamma=0.1)\n",
    "#level0.append(('svm', model3))\n",
    "model4 = KNeighborsClassifier(n_neighbors=5, metric='euclidean')\n",
    "level0.append(('knn', model4))\n",
    "print(estimators)\n",
    "level1=LogisticRegression()\n",
    "# create the ensemble model\n",
    "ensemble = StackingClassifier(estimators=level0, final_estimator=level1, cv=5,passthrough=False)\n",
    "ensemble.fit(X_train_res,Y_train_res)\n",
    "Y_pred=ensemble.predict(X_test)\n",
    "#print(Y_pred)"
   ]
  },
  {
   "cell_type": "code",
   "execution_count": 42,
   "id": "9ea70236",
   "metadata": {},
   "outputs": [
    {
     "name": "stdout",
     "output_type": "stream",
     "text": [
      "Confusion matrix by Stacking Classifier:\n",
      " [[ 79   2   4]\n",
      " [  3 121  13]\n",
      " [  0   0  19]]\n",
      "Classfication rep by Stacking Classifier:\n",
      "              precision    recall  f1-score   support\n",
      "\n",
      "           0       0.96      0.93      0.95        85\n",
      "           1       0.98      0.88      0.93       137\n",
      "           2       0.53      1.00      0.69        19\n",
      "\n",
      "    accuracy                           0.91       241\n",
      "   macro avg       0.82      0.94      0.86       241\n",
      "weighted avg       0.94      0.91      0.92       241\n",
      "\n",
      "Accuracy score by  Stacking Classifier: 0.9087136929460581\n"
     ]
    }
   ],
   "source": [
    "cm=confusion_matrix(Y_test,Y_pred)\n",
    "print(\"Confusion matrix by Stacking Classifier:\\n\",cm)\n",
    "class_r=classification_report(Y_test,Y_pred)\n",
    "print(\"Classfication rep by Stacking Classifier:\")\n",
    "print(class_r)\n",
    "acc_s=accuracy_score(Y_test,Y_pred)\n",
    "print(\"Accuracy score by  Stacking Classifier:\",acc_s)"
   ]
  },
  {
   "cell_type": "code",
   "execution_count": 43,
   "id": "98eca4e1",
   "metadata": {},
   "outputs": [],
   "source": [
    "from xgboost import XGBClassifier\n",
    "Xg=XGBClassifier(random_state=10,max_depth=10,max_leaves=10)\n",
    "Xg.fit(X_train_res,Y_train_res)\n",
    "Y_pred=Xg.predict(X_test)"
   ]
  },
  {
   "cell_type": "code",
   "execution_count": 44,
   "id": "cbcc50b7",
   "metadata": {},
   "outputs": [
    {
     "data": {
      "text/plain": [
       "GridSearchCV(cv=5,\n",
       "             estimator=XGBClassifier(base_score=None, booster=None,\n",
       "                                     callbacks=None, colsample_bylevel=None,\n",
       "                                     colsample_bynode=None,\n",
       "                                     colsample_bytree=None,\n",
       "                                     early_stopping_rounds=None,\n",
       "                                     enable_categorical=False, eval_metric=None,\n",
       "                                     feature_types=None, gamma=None,\n",
       "                                     gpu_id=None, grow_policy=None,\n",
       "                                     importance_type=None,\n",
       "                                     interaction_constraints=None,\n",
       "                                     learning_rate=None,...\n",
       "                                     max_cat_threshold=None,\n",
       "                                     max_cat_to_onehot=None,\n",
       "                                     max_delta_step=None, max_depth=10,\n",
       "                                     max_leaves=10, min_child_weight=None,\n",
       "                                     missing=nan, monotone_constraints=None,\n",
       "                                     n_estimators=100, n_jobs=None,\n",
       "                                     num_parallel_tree=None,\n",
       "                                     objective='multi:softprob', predictor=None, ...),\n",
       "             n_jobs=-1,\n",
       "             param_grid={'max_depth': [12, 10, 15],\n",
       "                         'max_leaves': [5, 10, 15, 20],\n",
       "                         'n_estimators': [100, 200, 300, 400]})"
      ]
     },
     "execution_count": 44,
     "metadata": {},
     "output_type": "execute_result"
    }
   ],
   "source": [
    "from sklearn.model_selection import GridSearchCV\n",
    "parameter_space = {\"n_estimators\":[100,200,300,400],\n",
    "                   \"max_depth\":[12,10,15],\n",
    "                  \"max_leaves\":[5,10,15,20]}\n",
    "    \n",
    "    \n",
    "clf = GridSearchCV(Xg,parameter_space,n_jobs=-1, cv=5)\n",
    "clf.fit(X_train_res,Y_train_res)"
   ]
  },
  {
   "cell_type": "code",
   "execution_count": 45,
   "id": "5d234e15",
   "metadata": {},
   "outputs": [
    {
     "data": {
      "text/plain": [
       "{'max_depth': 12, 'max_leaves': 5, 'n_estimators': 100}"
      ]
     },
     "execution_count": 45,
     "metadata": {},
     "output_type": "execute_result"
    }
   ],
   "source": [
    "clf.best_params_"
   ]
  },
  {
   "cell_type": "code",
   "execution_count": 71,
   "id": "573bdd0c",
   "metadata": {},
   "outputs": [
    {
     "name": "stdout",
     "output_type": "stream",
     "text": [
      "Confusion matrix by XGB Classifier:\n",
      " [[ 79   2   4]\n",
      " [  2 125  10]\n",
      " [  0   0  19]]\n",
      "Classfication rep by XGB Classifier:\n",
      "              precision    recall  f1-score   support\n",
      "\n",
      "           0       0.98      0.93      0.95        85\n",
      "           1       0.98      0.91      0.95       137\n",
      "           2       0.58      1.00      0.73        19\n",
      "\n",
      "    accuracy                           0.93       241\n",
      "   macro avg       0.85      0.95      0.88       241\n",
      "weighted avg       0.95      0.93      0.93       241\n",
      "\n",
      "Accuracy score by  XGB Classifier: 0.9253112033195021\n"
     ]
    }
   ],
   "source": [
    "from xgboost import XGBClassifier\n",
    "Xg=XGBClassifier(n_estimators=100,random_state=10,max_depth=12,max_leaves=5)\n",
    "Xg.fit(X_train_res,Y_train_res)\n",
    "Y_pred=Xg.predict(X_test)\n",
    "cm=confusion_matrix(Y_test,Y_pred)\n",
    "print(\"Confusion matrix by XGB Classifier:\\n\",cm)\n",
    "class_r=classification_report(Y_test,Y_pred)\n",
    "print(\"Classfication rep by XGB Classifier:\")\n",
    "print(class_r)\n",
    "acc_s=accuracy_score(Y_test,Y_pred)\n",
    "print(\"Accuracy score by  XGB Classifier:\",acc_s)"
   ]
  },
  {
   "cell_type": "code",
   "execution_count": 47,
   "id": "34c25fce",
   "metadata": {},
   "outputs": [
    {
     "data": {
      "text/html": [
       "<div>\n",
       "<style scoped>\n",
       "    .dataframe tbody tr th:only-of-type {\n",
       "        vertical-align: middle;\n",
       "    }\n",
       "\n",
       "    .dataframe tbody tr th {\n",
       "        vertical-align: top;\n",
       "    }\n",
       "\n",
       "    .dataframe thead th {\n",
       "        text-align: right;\n",
       "    }\n",
       "</style>\n",
       "<table border=\"1\" class=\"dataframe\">\n",
       "  <thead>\n",
       "    <tr style=\"text-align: right;\">\n",
       "      <th></th>\n",
       "      <th>Column</th>\n",
       "      <th>Imp value</th>\n",
       "    </tr>\n",
       "  </thead>\n",
       "  <tbody>\n",
       "    <tr>\n",
       "      <th>10</th>\n",
       "      <td>Class Duration</td>\n",
       "      <td>18.314538</td>\n",
       "    </tr>\n",
       "    <tr>\n",
       "      <th>7</th>\n",
       "      <td>Financial Condition</td>\n",
       "      <td>15.811768</td>\n",
       "    </tr>\n",
       "    <tr>\n",
       "      <th>1</th>\n",
       "      <td>Age</td>\n",
       "      <td>14.387004</td>\n",
       "    </tr>\n",
       "    <tr>\n",
       "      <th>3</th>\n",
       "      <td>Institution Type</td>\n",
       "      <td>7.506363</td>\n",
       "    </tr>\n",
       "    <tr>\n",
       "      <th>9</th>\n",
       "      <td>Network Type</td>\n",
       "      <td>6.835637</td>\n",
       "    </tr>\n",
       "    <tr>\n",
       "      <th>11</th>\n",
       "      <td>Self Lms</td>\n",
       "      <td>6.051245</td>\n",
       "    </tr>\n",
       "    <tr>\n",
       "      <th>2</th>\n",
       "      <td>Education Level</td>\n",
       "      <td>6.041567</td>\n",
       "    </tr>\n",
       "    <tr>\n",
       "      <th>0</th>\n",
       "      <td>Gender</td>\n",
       "      <td>5.748109</td>\n",
       "    </tr>\n",
       "    <tr>\n",
       "      <th>4</th>\n",
       "      <td>IT Student</td>\n",
       "      <td>5.198706</td>\n",
       "    </tr>\n",
       "    <tr>\n",
       "      <th>6</th>\n",
       "      <td>Load-shedding</td>\n",
       "      <td>5.040369</td>\n",
       "    </tr>\n",
       "    <tr>\n",
       "      <th>8</th>\n",
       "      <td>Internet Type</td>\n",
       "      <td>4.521566</td>\n",
       "    </tr>\n",
       "    <tr>\n",
       "      <th>12</th>\n",
       "      <td>Device</td>\n",
       "      <td>2.711203</td>\n",
       "    </tr>\n",
       "    <tr>\n",
       "      <th>5</th>\n",
       "      <td>Location</td>\n",
       "      <td>1.831923</td>\n",
       "    </tr>\n",
       "  </tbody>\n",
       "</table>\n",
       "</div>"
      ],
      "text/plain": [
       "                 Column  Imp value\n",
       "10       Class Duration  18.314538\n",
       "7   Financial Condition  15.811768\n",
       "1                   Age  14.387004\n",
       "3      Institution Type   7.506363\n",
       "9          Network Type   6.835637\n",
       "11             Self Lms   6.051245\n",
       "2       Education Level   6.041567\n",
       "0                Gender   5.748109\n",
       "4            IT Student   5.198706\n",
       "6         Load-shedding   5.040369\n",
       "8         Internet Type   4.521566\n",
       "12               Device   2.711203\n",
       "5              Location   1.831923"
      ]
     },
     "execution_count": 47,
     "metadata": {},
     "output_type": "execute_result"
    }
   ],
   "source": [
    "sample.sort_values(\"Imp value\",ascending=False)"
   ]
  },
  {
   "cell_type": "code",
   "execution_count": 48,
   "id": "5b2edfe3",
   "metadata": {},
   "outputs": [
    {
     "name": "stderr",
     "output_type": "stream",
     "text": [
      "100%|██████████████████████████████████████████████████████████████████████████████████| 29/29 [00:02<00:00, 13.27it/s]\n"
     ]
    }
   ],
   "source": [
    "from lazypredict.Supervised import LazyClassifier\n",
    "clf=LazyClassifier(ignore_warnings=True,verbose=0,custom_metric=None)\n",
    "models,predictions=clf.fit(X_train_res,X_test,Y_train_res,Y_test)"
   ]
  },
  {
   "cell_type": "code",
   "execution_count": 49,
   "id": "96c8c9a2",
   "metadata": {},
   "outputs": [],
   "source": [
    "accuracy=pd.DataFrame(models)"
   ]
  },
  {
   "cell_type": "code",
   "execution_count": 50,
   "id": "3802ea7a",
   "metadata": {},
   "outputs": [
    {
     "data": {
      "text/html": [
       "<div>\n",
       "<style scoped>\n",
       "    .dataframe tbody tr th:only-of-type {\n",
       "        vertical-align: middle;\n",
       "    }\n",
       "\n",
       "    .dataframe tbody tr th {\n",
       "        vertical-align: top;\n",
       "    }\n",
       "\n",
       "    .dataframe thead th {\n",
       "        text-align: right;\n",
       "    }\n",
       "</style>\n",
       "<table border=\"1\" class=\"dataframe\">\n",
       "  <thead>\n",
       "    <tr style=\"text-align: right;\">\n",
       "      <th></th>\n",
       "      <th>Accuracy</th>\n",
       "      <th>Balanced Accuracy</th>\n",
       "      <th>ROC AUC</th>\n",
       "      <th>F1 Score</th>\n",
       "      <th>Time Taken</th>\n",
       "    </tr>\n",
       "    <tr>\n",
       "      <th>Model</th>\n",
       "      <th></th>\n",
       "      <th></th>\n",
       "      <th></th>\n",
       "      <th></th>\n",
       "      <th></th>\n",
       "    </tr>\n",
       "  </thead>\n",
       "  <tbody>\n",
       "    <tr>\n",
       "      <th>XGBClassifier</th>\n",
       "      <td>0.93</td>\n",
       "      <td>0.95</td>\n",
       "      <td>None</td>\n",
       "      <td>0.93</td>\n",
       "      <td>0.28</td>\n",
       "    </tr>\n",
       "    <tr>\n",
       "      <th>DecisionTreeClassifier</th>\n",
       "      <td>0.92</td>\n",
       "      <td>0.94</td>\n",
       "      <td>None</td>\n",
       "      <td>0.93</td>\n",
       "      <td>0.02</td>\n",
       "    </tr>\n",
       "    <tr>\n",
       "      <th>ExtraTreesClassifier</th>\n",
       "      <td>0.92</td>\n",
       "      <td>0.94</td>\n",
       "      <td>None</td>\n",
       "      <td>0.93</td>\n",
       "      <td>0.14</td>\n",
       "    </tr>\n",
       "    <tr>\n",
       "      <th>RandomForestClassifier</th>\n",
       "      <td>0.92</td>\n",
       "      <td>0.94</td>\n",
       "      <td>None</td>\n",
       "      <td>0.93</td>\n",
       "      <td>0.16</td>\n",
       "    </tr>\n",
       "    <tr>\n",
       "      <th>LGBMClassifier</th>\n",
       "      <td>0.92</td>\n",
       "      <td>0.94</td>\n",
       "      <td>None</td>\n",
       "      <td>0.92</td>\n",
       "      <td>0.20</td>\n",
       "    </tr>\n",
       "    <tr>\n",
       "      <th>LabelPropagation</th>\n",
       "      <td>0.91</td>\n",
       "      <td>0.94</td>\n",
       "      <td>None</td>\n",
       "      <td>0.92</td>\n",
       "      <td>0.09</td>\n",
       "    </tr>\n",
       "    <tr>\n",
       "      <th>LabelSpreading</th>\n",
       "      <td>0.91</td>\n",
       "      <td>0.94</td>\n",
       "      <td>None</td>\n",
       "      <td>0.92</td>\n",
       "      <td>0.14</td>\n",
       "    </tr>\n",
       "    <tr>\n",
       "      <th>BaggingClassifier</th>\n",
       "      <td>0.92</td>\n",
       "      <td>0.93</td>\n",
       "      <td>None</td>\n",
       "      <td>0.92</td>\n",
       "      <td>0.03</td>\n",
       "    </tr>\n",
       "    <tr>\n",
       "      <th>ExtraTreeClassifier</th>\n",
       "      <td>0.92</td>\n",
       "      <td>0.93</td>\n",
       "      <td>None</td>\n",
       "      <td>0.92</td>\n",
       "      <td>0.03</td>\n",
       "    </tr>\n",
       "    <tr>\n",
       "      <th>KNeighborsClassifier</th>\n",
       "      <td>0.85</td>\n",
       "      <td>0.88</td>\n",
       "      <td>None</td>\n",
       "      <td>0.86</td>\n",
       "      <td>0.03</td>\n",
       "    </tr>\n",
       "    <tr>\n",
       "      <th>SVC</th>\n",
       "      <td>0.76</td>\n",
       "      <td>0.78</td>\n",
       "      <td>None</td>\n",
       "      <td>0.77</td>\n",
       "      <td>0.05</td>\n",
       "    </tr>\n",
       "    <tr>\n",
       "      <th>NuSVC</th>\n",
       "      <td>0.74</td>\n",
       "      <td>0.77</td>\n",
       "      <td>None</td>\n",
       "      <td>0.75</td>\n",
       "      <td>0.11</td>\n",
       "    </tr>\n",
       "    <tr>\n",
       "      <th>RidgeClassifier</th>\n",
       "      <td>0.68</td>\n",
       "      <td>0.72</td>\n",
       "      <td>None</td>\n",
       "      <td>0.69</td>\n",
       "      <td>0.02</td>\n",
       "    </tr>\n",
       "    <tr>\n",
       "      <th>LinearSVC</th>\n",
       "      <td>0.68</td>\n",
       "      <td>0.72</td>\n",
       "      <td>None</td>\n",
       "      <td>0.69</td>\n",
       "      <td>0.13</td>\n",
       "    </tr>\n",
       "    <tr>\n",
       "      <th>LinearDiscriminantAnalysis</th>\n",
       "      <td>0.68</td>\n",
       "      <td>0.72</td>\n",
       "      <td>None</td>\n",
       "      <td>0.69</td>\n",
       "      <td>0.02</td>\n",
       "    </tr>\n",
       "    <tr>\n",
       "      <th>CalibratedClassifierCV</th>\n",
       "      <td>0.68</td>\n",
       "      <td>0.72</td>\n",
       "      <td>None</td>\n",
       "      <td>0.69</td>\n",
       "      <td>0.55</td>\n",
       "    </tr>\n",
       "    <tr>\n",
       "      <th>RidgeClassifierCV</th>\n",
       "      <td>0.68</td>\n",
       "      <td>0.71</td>\n",
       "      <td>None</td>\n",
       "      <td>0.68</td>\n",
       "      <td>0.00</td>\n",
       "    </tr>\n",
       "    <tr>\n",
       "      <th>QuadraticDiscriminantAnalysis</th>\n",
       "      <td>0.72</td>\n",
       "      <td>0.71</td>\n",
       "      <td>None</td>\n",
       "      <td>0.73</td>\n",
       "      <td>0.02</td>\n",
       "    </tr>\n",
       "    <tr>\n",
       "      <th>SGDClassifier</th>\n",
       "      <td>0.62</td>\n",
       "      <td>0.70</td>\n",
       "      <td>None</td>\n",
       "      <td>0.63</td>\n",
       "      <td>0.03</td>\n",
       "    </tr>\n",
       "    <tr>\n",
       "      <th>LogisticRegression</th>\n",
       "      <td>0.67</td>\n",
       "      <td>0.69</td>\n",
       "      <td>None</td>\n",
       "      <td>0.67</td>\n",
       "      <td>0.03</td>\n",
       "    </tr>\n",
       "    <tr>\n",
       "      <th>AdaBoostClassifier</th>\n",
       "      <td>0.62</td>\n",
       "      <td>0.68</td>\n",
       "      <td>None</td>\n",
       "      <td>0.64</td>\n",
       "      <td>0.09</td>\n",
       "    </tr>\n",
       "    <tr>\n",
       "      <th>GaussianNB</th>\n",
       "      <td>0.59</td>\n",
       "      <td>0.66</td>\n",
       "      <td>None</td>\n",
       "      <td>0.61</td>\n",
       "      <td>0.00</td>\n",
       "    </tr>\n",
       "    <tr>\n",
       "      <th>NearestCentroid</th>\n",
       "      <td>0.59</td>\n",
       "      <td>0.64</td>\n",
       "      <td>None</td>\n",
       "      <td>0.61</td>\n",
       "      <td>0.00</td>\n",
       "    </tr>\n",
       "    <tr>\n",
       "      <th>BernoulliNB</th>\n",
       "      <td>0.60</td>\n",
       "      <td>0.63</td>\n",
       "      <td>None</td>\n",
       "      <td>0.61</td>\n",
       "      <td>0.00</td>\n",
       "    </tr>\n",
       "    <tr>\n",
       "      <th>Perceptron</th>\n",
       "      <td>0.65</td>\n",
       "      <td>0.63</td>\n",
       "      <td>None</td>\n",
       "      <td>0.65</td>\n",
       "      <td>0.00</td>\n",
       "    </tr>\n",
       "    <tr>\n",
       "      <th>PassiveAggressiveClassifier</th>\n",
       "      <td>0.51</td>\n",
       "      <td>0.60</td>\n",
       "      <td>None</td>\n",
       "      <td>0.56</td>\n",
       "      <td>0.02</td>\n",
       "    </tr>\n",
       "    <tr>\n",
       "      <th>DummyClassifier</th>\n",
       "      <td>0.35</td>\n",
       "      <td>0.33</td>\n",
       "      <td>None</td>\n",
       "      <td>0.18</td>\n",
       "      <td>0.00</td>\n",
       "    </tr>\n",
       "  </tbody>\n",
       "</table>\n",
       "</div>"
      ],
      "text/plain": [
       "                               Accuracy  Balanced Accuracy ROC AUC  F1 Score  \\\n",
       "Model                                                                          \n",
       "XGBClassifier                      0.93               0.95    None      0.93   \n",
       "DecisionTreeClassifier             0.92               0.94    None      0.93   \n",
       "ExtraTreesClassifier               0.92               0.94    None      0.93   \n",
       "RandomForestClassifier             0.92               0.94    None      0.93   \n",
       "LGBMClassifier                     0.92               0.94    None      0.92   \n",
       "LabelPropagation                   0.91               0.94    None      0.92   \n",
       "LabelSpreading                     0.91               0.94    None      0.92   \n",
       "BaggingClassifier                  0.92               0.93    None      0.92   \n",
       "ExtraTreeClassifier                0.92               0.93    None      0.92   \n",
       "KNeighborsClassifier               0.85               0.88    None      0.86   \n",
       "SVC                                0.76               0.78    None      0.77   \n",
       "NuSVC                              0.74               0.77    None      0.75   \n",
       "RidgeClassifier                    0.68               0.72    None      0.69   \n",
       "LinearSVC                          0.68               0.72    None      0.69   \n",
       "LinearDiscriminantAnalysis         0.68               0.72    None      0.69   \n",
       "CalibratedClassifierCV             0.68               0.72    None      0.69   \n",
       "RidgeClassifierCV                  0.68               0.71    None      0.68   \n",
       "QuadraticDiscriminantAnalysis      0.72               0.71    None      0.73   \n",
       "SGDClassifier                      0.62               0.70    None      0.63   \n",
       "LogisticRegression                 0.67               0.69    None      0.67   \n",
       "AdaBoostClassifier                 0.62               0.68    None      0.64   \n",
       "GaussianNB                         0.59               0.66    None      0.61   \n",
       "NearestCentroid                    0.59               0.64    None      0.61   \n",
       "BernoulliNB                        0.60               0.63    None      0.61   \n",
       "Perceptron                         0.65               0.63    None      0.65   \n",
       "PassiveAggressiveClassifier        0.51               0.60    None      0.56   \n",
       "DummyClassifier                    0.35               0.33    None      0.18   \n",
       "\n",
       "                               Time Taken  \n",
       "Model                                      \n",
       "XGBClassifier                        0.28  \n",
       "DecisionTreeClassifier               0.02  \n",
       "ExtraTreesClassifier                 0.14  \n",
       "RandomForestClassifier               0.16  \n",
       "LGBMClassifier                       0.20  \n",
       "LabelPropagation                     0.09  \n",
       "LabelSpreading                       0.14  \n",
       "BaggingClassifier                    0.03  \n",
       "ExtraTreeClassifier                  0.03  \n",
       "KNeighborsClassifier                 0.03  \n",
       "SVC                                  0.05  \n",
       "NuSVC                                0.11  \n",
       "RidgeClassifier                      0.02  \n",
       "LinearSVC                            0.13  \n",
       "LinearDiscriminantAnalysis           0.02  \n",
       "CalibratedClassifierCV               0.55  \n",
       "RidgeClassifierCV                    0.00  \n",
       "QuadraticDiscriminantAnalysis        0.02  \n",
       "SGDClassifier                        0.03  \n",
       "LogisticRegression                   0.03  \n",
       "AdaBoostClassifier                   0.09  \n",
       "GaussianNB                           0.00  \n",
       "NearestCentroid                      0.00  \n",
       "BernoulliNB                          0.00  \n",
       "Perceptron                           0.00  \n",
       "PassiveAggressiveClassifier          0.02  \n",
       "DummyClassifier                      0.00  "
      ]
     },
     "execution_count": 50,
     "metadata": {},
     "output_type": "execute_result"
    }
   ],
   "source": [
    "accuracy"
   ]
  },
  {
   "cell_type": "code",
   "execution_count": null,
   "id": "97dca741",
   "metadata": {},
   "outputs": [],
   "source": []
  },
  {
   "cell_type": "code",
   "execution_count": 51,
   "id": "17adb9e1",
   "metadata": {},
   "outputs": [],
   "source": [
    "new_data = data[[\"Class Duration\",\"Financial Condition\",\"Age\",\"Institution Type\",\"Network Type\",\"Self Lms\",\"Education Level\",\"Adaptivity Level\"]]"
   ]
  },
  {
   "cell_type": "code",
   "execution_count": 52,
   "id": "360e50b3",
   "metadata": {},
   "outputs": [
    {
     "data": {
      "text/html": [
       "<div>\n",
       "<style scoped>\n",
       "    .dataframe tbody tr th:only-of-type {\n",
       "        vertical-align: middle;\n",
       "    }\n",
       "\n",
       "    .dataframe tbody tr th {\n",
       "        vertical-align: top;\n",
       "    }\n",
       "\n",
       "    .dataframe thead th {\n",
       "        text-align: right;\n",
       "    }\n",
       "</style>\n",
       "<table border=\"1\" class=\"dataframe\">\n",
       "  <thead>\n",
       "    <tr style=\"text-align: right;\">\n",
       "      <th></th>\n",
       "      <th>Class Duration</th>\n",
       "      <th>Financial Condition</th>\n",
       "      <th>Age</th>\n",
       "      <th>Institution Type</th>\n",
       "      <th>Network Type</th>\n",
       "      <th>Self Lms</th>\n",
       "      <th>Education Level</th>\n",
       "      <th>Adaptivity Level</th>\n",
       "    </tr>\n",
       "  </thead>\n",
       "  <tbody>\n",
       "    <tr>\n",
       "      <th>0</th>\n",
       "      <td>2</td>\n",
       "      <td>0</td>\n",
       "      <td>3</td>\n",
       "      <td>1</td>\n",
       "      <td>2</td>\n",
       "      <td>0</td>\n",
       "      <td>2</td>\n",
       "      <td>1</td>\n",
       "    </tr>\n",
       "    <tr>\n",
       "      <th>1</th>\n",
       "      <td>1</td>\n",
       "      <td>0</td>\n",
       "      <td>3</td>\n",
       "      <td>1</td>\n",
       "      <td>2</td>\n",
       "      <td>1</td>\n",
       "      <td>2</td>\n",
       "      <td>1</td>\n",
       "    </tr>\n",
       "    <tr>\n",
       "      <th>2</th>\n",
       "      <td>1</td>\n",
       "      <td>0</td>\n",
       "      <td>2</td>\n",
       "      <td>0</td>\n",
       "      <td>2</td>\n",
       "      <td>0</td>\n",
       "      <td>0</td>\n",
       "      <td>1</td>\n",
       "    </tr>\n",
       "    <tr>\n",
       "      <th>3</th>\n",
       "      <td>1</td>\n",
       "      <td>0</td>\n",
       "      <td>1</td>\n",
       "      <td>1</td>\n",
       "      <td>2</td>\n",
       "      <td>0</td>\n",
       "      <td>1</td>\n",
       "      <td>1</td>\n",
       "    </tr>\n",
       "    <tr>\n",
       "      <th>4</th>\n",
       "      <td>0</td>\n",
       "      <td>1</td>\n",
       "      <td>2</td>\n",
       "      <td>1</td>\n",
       "      <td>1</td>\n",
       "      <td>0</td>\n",
       "      <td>1</td>\n",
       "      <td>0</td>\n",
       "    </tr>\n",
       "    <tr>\n",
       "      <th>...</th>\n",
       "      <td>...</td>\n",
       "      <td>...</td>\n",
       "      <td>...</td>\n",
       "      <td>...</td>\n",
       "      <td>...</td>\n",
       "      <td>...</td>\n",
       "      <td>...</td>\n",
       "      <td>...</td>\n",
       "    </tr>\n",
       "    <tr>\n",
       "      <th>1200</th>\n",
       "      <td>1</td>\n",
       "      <td>0</td>\n",
       "      <td>2</td>\n",
       "      <td>1</td>\n",
       "      <td>2</td>\n",
       "      <td>0</td>\n",
       "      <td>0</td>\n",
       "      <td>0</td>\n",
       "    </tr>\n",
       "    <tr>\n",
       "      <th>1201</th>\n",
       "      <td>2</td>\n",
       "      <td>0</td>\n",
       "      <td>2</td>\n",
       "      <td>1</td>\n",
       "      <td>2</td>\n",
       "      <td>0</td>\n",
       "      <td>0</td>\n",
       "      <td>1</td>\n",
       "    </tr>\n",
       "    <tr>\n",
       "      <th>1202</th>\n",
       "      <td>1</td>\n",
       "      <td>0</td>\n",
       "      <td>1</td>\n",
       "      <td>1</td>\n",
       "      <td>1</td>\n",
       "      <td>0</td>\n",
       "      <td>1</td>\n",
       "      <td>1</td>\n",
       "    </tr>\n",
       "    <tr>\n",
       "      <th>1203</th>\n",
       "      <td>1</td>\n",
       "      <td>0</td>\n",
       "      <td>2</td>\n",
       "      <td>1</td>\n",
       "      <td>2</td>\n",
       "      <td>0</td>\n",
       "      <td>0</td>\n",
       "      <td>0</td>\n",
       "    </tr>\n",
       "    <tr>\n",
       "      <th>1204</th>\n",
       "      <td>1</td>\n",
       "      <td>1</td>\n",
       "      <td>1</td>\n",
       "      <td>1</td>\n",
       "      <td>1</td>\n",
       "      <td>0</td>\n",
       "      <td>1</td>\n",
       "      <td>1</td>\n",
       "    </tr>\n",
       "  </tbody>\n",
       "</table>\n",
       "<p>1205 rows × 8 columns</p>\n",
       "</div>"
      ],
      "text/plain": [
       "      Class Duration  Financial Condition  Age  Institution Type  \\\n",
       "0                  2                    0    3                 1   \n",
       "1                  1                    0    3                 1   \n",
       "2                  1                    0    2                 0   \n",
       "3                  1                    0    1                 1   \n",
       "4                  0                    1    2                 1   \n",
       "...              ...                  ...  ...               ...   \n",
       "1200               1                    0    2                 1   \n",
       "1201               2                    0    2                 1   \n",
       "1202               1                    0    1                 1   \n",
       "1203               1                    0    2                 1   \n",
       "1204               1                    1    1                 1   \n",
       "\n",
       "      Network Type  Self Lms  Education Level  Adaptivity Level  \n",
       "0                2         0                2                 1  \n",
       "1                2         1                2                 1  \n",
       "2                2         0                0                 1  \n",
       "3                2         0                1                 1  \n",
       "4                1         0                1                 0  \n",
       "...            ...       ...              ...               ...  \n",
       "1200             2         0                0                 0  \n",
       "1201             2         0                0                 1  \n",
       "1202             1         0                1                 1  \n",
       "1203             2         0                0                 0  \n",
       "1204             1         0                1                 1  \n",
       "\n",
       "[1205 rows x 8 columns]"
      ]
     },
     "execution_count": 52,
     "metadata": {},
     "output_type": "execute_result"
    }
   ],
   "source": [
    "new_data"
   ]
  },
  {
   "cell_type": "markdown",
   "id": "5a9e9672",
   "metadata": {},
   "source": [
    "# Applying PCA"
   ]
  },
  {
   "cell_type": "code",
   "execution_count": 59,
   "id": "46464b5b",
   "metadata": {},
   "outputs": [
    {
     "name": "stdout",
     "output_type": "stream",
     "text": [
      "[0.23758579 0.13398173 0.10681876 0.1017416  0.07391902 0.06778557\n",
      " 0.05823499 0.04716601 0.04311094 0.03873826]\n"
     ]
    }
   ],
   "source": [
    "from sklearn.decomposition import PCA\n",
    "pca = PCA(n_components=0.90) #to view the entire eigen vector, no subsetting\n",
    "X_train_new = pca.fit_transform(X_train_res)\n",
    "X_test_new = pca.transform(X_test)\n",
    "explained_variance = pca.explained_variance_ratio_\n",
    "print(explained_variance)"
   ]
  },
  {
   "cell_type": "code",
   "execution_count": 60,
   "id": "4a47b114",
   "metadata": {},
   "outputs": [
    {
     "data": {
      "text/plain": [
       "10"
      ]
     },
     "execution_count": 60,
     "metadata": {},
     "output_type": "execute_result"
    }
   ],
   "source": [
    "pca.n_components_"
   ]
  },
  {
   "cell_type": "code",
   "execution_count": 62,
   "id": "3f2d87d7",
   "metadata": {},
   "outputs": [
    {
     "data": {
      "text/plain": [
       "0.90908267"
      ]
     },
     "execution_count": 62,
     "metadata": {},
     "output_type": "execute_result"
    }
   ],
   "source": [
    "0.23758579 + 0.13398173 + 0.10681876 + 0.1017416 + 0.07391902 + 0.06778557 + 0.05823499 + 0.04716601 + 0.04311094 + 0.03873826"
   ]
  },
  {
   "cell_type": "code",
   "execution_count": 73,
   "id": "a5a13376",
   "metadata": {},
   "outputs": [
    {
     "name": "stdout",
     "output_type": "stream",
     "text": [
      "cfm : [[ 79   2   4]\n",
      " [  3 124  10]\n",
      " [  0   1  18]]\n",
      "\n",
      "Classification report :\n",
      "              precision    recall  f1-score   support\n",
      "\n",
      "           0       0.96      0.93      0.95        85\n",
      "           1       0.98      0.91      0.94       137\n",
      "           2       0.56      0.95      0.71        19\n",
      "\n",
      "    accuracy                           0.92       241\n",
      "   macro avg       0.83      0.93      0.86       241\n",
      "weighted avg       0.94      0.92      0.92       241\n",
      "\n",
      "Accuracy of the model : 0.91701244813278\n"
     ]
    }
   ],
   "source": [
    "from sklearn.svm import SVC\n",
    "classifier = XGBClassifier(n_estimators=100,random_state=10,max_depth=12,max_leaves=5)\n",
    "classifier.fit(X_train_new, Y_train_res)\n",
    "Y_pred = classifier.predict(X_test_new)\n",
    "\n",
    "\n",
    "from sklearn.metrics import confusion_matrix, accuracy_score, classification_report\n",
    "\n",
    "cfm = confusion_matrix(Y_test,Y_pred)\n",
    "print(\"cfm :\",cfm)\n",
    "print()\n",
    "print(\"Classification report :\")\n",
    "print(classification_report(Y_test, Y_pred))\n",
    "\n",
    "acc = accuracy_score(Y_test, Y_pred)\n",
    "print(\"Accuracy of the model :\",acc)"
   ]
  },
  {
   "cell_type": "code",
   "execution_count": null,
   "id": "e1795c55",
   "metadata": {},
   "outputs": [],
   "source": []
  }
 ],
 "metadata": {
  "kernelspec": {
   "display_name": "Python 3 (ipykernel)",
   "language": "python",
   "name": "python3"
  },
  "language_info": {
   "codemirror_mode": {
    "name": "ipython",
    "version": 3
   },
   "file_extension": ".py",
   "mimetype": "text/x-python",
   "name": "python",
   "nbconvert_exporter": "python",
   "pygments_lexer": "ipython3",
   "version": "3.9.13"
  }
 },
 "nbformat": 4,
 "nbformat_minor": 5
}
